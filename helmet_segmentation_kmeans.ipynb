{
 "cells": [
  {
   "cell_type": "markdown",
   "metadata": {},
   "source": [
    "# Helmet Customer Segmentation using K-means"
   ]
  },
  {
   "cell_type": "code",
   "execution_count": 1,
   "metadata": {},
   "outputs": [],
   "source": [
    "import numpy as np\n",
    "import pandas as pd\n",
    "pd.set_option('display.max_columns', None)\n",
    "import matplotlib.pyplot as plt\n",
    "import seaborn as sns; sns.set()\n",
    "%matplotlib inline\n",
    "\n",
    "plt.rcParams['figure.figsize'] = (20, 10)\n",
    "plt.style.use('ggplot')"
   ]
  },
  {
   "cell_type": "code",
   "execution_count": 2,
   "metadata": {},
   "outputs": [],
   "source": [
    "kmean=pd.read_csv('helmetcsv.csv')\n",
    "kmean.drop(columns=['Model/Type','Standard','POS Receive Date','POS Delivery Date','Other'],inplace=True)"
   ]
  },
  {
   "cell_type": "code",
   "execution_count": 3,
   "metadata": {},
   "outputs": [
    {
     "data": {
      "text/html": [
       "<div>\n",
       "<style scoped>\n",
       "    .dataframe tbody tr th:only-of-type {\n",
       "        vertical-align: middle;\n",
       "    }\n",
       "\n",
       "    .dataframe tbody tr th {\n",
       "        vertical-align: top;\n",
       "    }\n",
       "\n",
       "    .dataframe thead th {\n",
       "        text-align: right;\n",
       "    }\n",
       "</style>\n",
       "<table border=\"1\" class=\"dataframe\">\n",
       "  <thead>\n",
       "    <tr style=\"text-align: right;\">\n",
       "      <th></th>\n",
       "      <th>Customer</th>\n",
       "      <th>Destination</th>\n",
       "      <th>Time Differences</th>\n",
       "      <th>Modification</th>\n",
       "      <th>XXS</th>\n",
       "      <th>XS (48)</th>\n",
       "      <th>XS/S</th>\n",
       "      <th>S(50)</th>\n",
       "      <th>M(52)</th>\n",
       "      <th>L(54)</th>\n",
       "      <th>XL(56)</th>\n",
       "      <th>XXL</th>\n",
       "      <th>3XL</th>\n",
       "      <th>4XL</th>\n",
       "      <th>S/M</th>\n",
       "      <th>L/XL</th>\n",
       "      <th>Total Helmet</th>\n",
       "      <th>Receive Year</th>\n",
       "      <th>Delivery Year</th>\n",
       "    </tr>\n",
       "  </thead>\n",
       "  <tbody>\n",
       "    <tr>\n",
       "      <td>0</td>\n",
       "      <td>AMR INDUSTRY</td>\n",
       "      <td>THAILAND</td>\n",
       "      <td>9</td>\n",
       "      <td>no</td>\n",
       "      <td>0</td>\n",
       "      <td>0</td>\n",
       "      <td>0</td>\n",
       "      <td>6</td>\n",
       "      <td>8</td>\n",
       "      <td>4</td>\n",
       "      <td>0</td>\n",
       "      <td>0</td>\n",
       "      <td>0</td>\n",
       "      <td>0</td>\n",
       "      <td>0</td>\n",
       "      <td>0</td>\n",
       "      <td>18</td>\n",
       "      <td>2016</td>\n",
       "      <td>2016</td>\n",
       "    </tr>\n",
       "    <tr>\n",
       "      <td>1</td>\n",
       "      <td>AMR INDUSTRY</td>\n",
       "      <td>THAILAND</td>\n",
       "      <td>1</td>\n",
       "      <td>no</td>\n",
       "      <td>0</td>\n",
       "      <td>0</td>\n",
       "      <td>0</td>\n",
       "      <td>1</td>\n",
       "      <td>3</td>\n",
       "      <td>2</td>\n",
       "      <td>1</td>\n",
       "      <td>1</td>\n",
       "      <td>1</td>\n",
       "      <td>0</td>\n",
       "      <td>0</td>\n",
       "      <td>0</td>\n",
       "      <td>9</td>\n",
       "      <td>2016</td>\n",
       "      <td>2016</td>\n",
       "    </tr>\n",
       "    <tr>\n",
       "      <td>2</td>\n",
       "      <td>AMR INDUSTRY</td>\n",
       "      <td>THAILAND</td>\n",
       "      <td>1</td>\n",
       "      <td>no</td>\n",
       "      <td>0</td>\n",
       "      <td>0</td>\n",
       "      <td>0</td>\n",
       "      <td>1</td>\n",
       "      <td>3</td>\n",
       "      <td>2</td>\n",
       "      <td>1</td>\n",
       "      <td>1</td>\n",
       "      <td>1</td>\n",
       "      <td>0</td>\n",
       "      <td>0</td>\n",
       "      <td>0</td>\n",
       "      <td>9</td>\n",
       "      <td>2016</td>\n",
       "      <td>2016</td>\n",
       "    </tr>\n",
       "    <tr>\n",
       "      <td>3</td>\n",
       "      <td>AMR INDUSTRY</td>\n",
       "      <td>THAILAND</td>\n",
       "      <td>1</td>\n",
       "      <td>no</td>\n",
       "      <td>0</td>\n",
       "      <td>0</td>\n",
       "      <td>0</td>\n",
       "      <td>2</td>\n",
       "      <td>3</td>\n",
       "      <td>2</td>\n",
       "      <td>1</td>\n",
       "      <td>1</td>\n",
       "      <td>0</td>\n",
       "      <td>0</td>\n",
       "      <td>0</td>\n",
       "      <td>0</td>\n",
       "      <td>9</td>\n",
       "      <td>2016</td>\n",
       "      <td>2016</td>\n",
       "    </tr>\n",
       "    <tr>\n",
       "      <td>4</td>\n",
       "      <td>AMR INDUSTRY</td>\n",
       "      <td>THAILAND</td>\n",
       "      <td>1</td>\n",
       "      <td>no</td>\n",
       "      <td>0</td>\n",
       "      <td>0</td>\n",
       "      <td>0</td>\n",
       "      <td>2</td>\n",
       "      <td>3</td>\n",
       "      <td>2</td>\n",
       "      <td>1</td>\n",
       "      <td>1</td>\n",
       "      <td>0</td>\n",
       "      <td>0</td>\n",
       "      <td>0</td>\n",
       "      <td>0</td>\n",
       "      <td>9</td>\n",
       "      <td>2016</td>\n",
       "      <td>2016</td>\n",
       "    </tr>\n",
       "  </tbody>\n",
       "</table>\n",
       "</div>"
      ],
      "text/plain": [
       "       Customer Destination  Time Differences Modification  XXS  XS (48)  \\\n",
       "0  AMR INDUSTRY    THAILAND                 9           no    0        0   \n",
       "1  AMR INDUSTRY    THAILAND                 1           no    0        0   \n",
       "2  AMR INDUSTRY    THAILAND                 1           no    0        0   \n",
       "3  AMR INDUSTRY    THAILAND                 1           no    0        0   \n",
       "4  AMR INDUSTRY    THAILAND                 1           no    0        0   \n",
       "\n",
       "   XS/S  S(50)  M(52)  L(54)  XL(56)  XXL  3XL  4XL  S/M  L/XL  Total Helmet  \\\n",
       "0     0      6      8      4       0    0    0    0    0     0            18   \n",
       "1     0      1      3      2       1    1    1    0    0     0             9   \n",
       "2     0      1      3      2       1    1    1    0    0     0             9   \n",
       "3     0      2      3      2       1    1    0    0    0     0             9   \n",
       "4     0      2      3      2       1    1    0    0    0     0             9   \n",
       "\n",
       "   Receive Year  Delivery Year  \n",
       "0          2016           2016  \n",
       "1          2016           2016  \n",
       "2          2016           2016  \n",
       "3          2016           2016  \n",
       "4          2016           2016  "
      ]
     },
     "execution_count": 3,
     "metadata": {},
     "output_type": "execute_result"
    }
   ],
   "source": [
    "kmean.head()"
   ]
  },
  {
   "cell_type": "code",
   "execution_count": 4,
   "metadata": {},
   "outputs": [
    {
     "data": {
      "text/plain": [
       "7270"
      ]
     },
     "execution_count": 4,
     "metadata": {},
     "output_type": "execute_result"
    }
   ],
   "source": [
    "len(kmean) "
   ]
  },
  {
   "cell_type": "code",
   "execution_count": 5,
   "metadata": {},
   "outputs": [
    {
     "data": {
      "text/html": [
       "<div>\n",
       "<style scoped>\n",
       "    .dataframe tbody tr th:only-of-type {\n",
       "        vertical-align: middle;\n",
       "    }\n",
       "\n",
       "    .dataframe tbody tr th {\n",
       "        vertical-align: top;\n",
       "    }\n",
       "\n",
       "    .dataframe thead th {\n",
       "        text-align: right;\n",
       "    }\n",
       "</style>\n",
       "<table border=\"1\" class=\"dataframe\">\n",
       "  <thead>\n",
       "    <tr style=\"text-align: right;\">\n",
       "      <th></th>\n",
       "      <th>count</th>\n",
       "      <th>mean</th>\n",
       "      <th>std</th>\n",
       "      <th>min</th>\n",
       "      <th>25%</th>\n",
       "      <th>50%</th>\n",
       "      <th>75%</th>\n",
       "      <th>max</th>\n",
       "    </tr>\n",
       "  </thead>\n",
       "  <tbody>\n",
       "    <tr>\n",
       "      <td>Time Differences</td>\n",
       "      <td>7270.0</td>\n",
       "      <td>9.468363</td>\n",
       "      <td>14.792043</td>\n",
       "      <td>0.0</td>\n",
       "      <td>1.0</td>\n",
       "      <td>1.0</td>\n",
       "      <td>15.0</td>\n",
       "      <td>90.0</td>\n",
       "    </tr>\n",
       "    <tr>\n",
       "      <td>XXS</td>\n",
       "      <td>7270.0</td>\n",
       "      <td>0.001100</td>\n",
       "      <td>0.052442</td>\n",
       "      <td>0.0</td>\n",
       "      <td>0.0</td>\n",
       "      <td>0.0</td>\n",
       "      <td>0.0</td>\n",
       "      <td>3.0</td>\n",
       "    </tr>\n",
       "    <tr>\n",
       "      <td>XS (48)</td>\n",
       "      <td>7270.0</td>\n",
       "      <td>1.792572</td>\n",
       "      <td>7.009704</td>\n",
       "      <td>0.0</td>\n",
       "      <td>0.0</td>\n",
       "      <td>0.0</td>\n",
       "      <td>0.0</td>\n",
       "      <td>348.0</td>\n",
       "    </tr>\n",
       "    <tr>\n",
       "      <td>XS/S</td>\n",
       "      <td>7270.0</td>\n",
       "      <td>0.000000</td>\n",
       "      <td>0.000000</td>\n",
       "      <td>0.0</td>\n",
       "      <td>0.0</td>\n",
       "      <td>0.0</td>\n",
       "      <td>0.0</td>\n",
       "      <td>0.0</td>\n",
       "    </tr>\n",
       "    <tr>\n",
       "      <td>S(50)</td>\n",
       "      <td>7270.0</td>\n",
       "      <td>6.111692</td>\n",
       "      <td>22.212878</td>\n",
       "      <td>0.0</td>\n",
       "      <td>0.0</td>\n",
       "      <td>0.0</td>\n",
       "      <td>6.0</td>\n",
       "      <td>810.0</td>\n",
       "    </tr>\n",
       "    <tr>\n",
       "      <td>M(52)</td>\n",
       "      <td>7270.0</td>\n",
       "      <td>13.467400</td>\n",
       "      <td>30.211962</td>\n",
       "      <td>0.0</td>\n",
       "      <td>0.0</td>\n",
       "      <td>4.0</td>\n",
       "      <td>16.0</td>\n",
       "      <td>800.0</td>\n",
       "    </tr>\n",
       "    <tr>\n",
       "      <td>L(54)</td>\n",
       "      <td>7270.0</td>\n",
       "      <td>20.968913</td>\n",
       "      <td>46.587129</td>\n",
       "      <td>0.0</td>\n",
       "      <td>1.0</td>\n",
       "      <td>6.0</td>\n",
       "      <td>20.0</td>\n",
       "      <td>1000.0</td>\n",
       "    </tr>\n",
       "    <tr>\n",
       "      <td>XL(56)</td>\n",
       "      <td>7270.0</td>\n",
       "      <td>6.821183</td>\n",
       "      <td>17.389557</td>\n",
       "      <td>0.0</td>\n",
       "      <td>0.0</td>\n",
       "      <td>1.0</td>\n",
       "      <td>6.0</td>\n",
       "      <td>500.0</td>\n",
       "    </tr>\n",
       "    <tr>\n",
       "      <td>XXL</td>\n",
       "      <td>7270.0</td>\n",
       "      <td>8.994085</td>\n",
       "      <td>37.432356</td>\n",
       "      <td>0.0</td>\n",
       "      <td>0.0</td>\n",
       "      <td>0.0</td>\n",
       "      <td>1.0</td>\n",
       "      <td>867.0</td>\n",
       "    </tr>\n",
       "    <tr>\n",
       "      <td>3XL</td>\n",
       "      <td>7270.0</td>\n",
       "      <td>0.137964</td>\n",
       "      <td>3.789927</td>\n",
       "      <td>0.0</td>\n",
       "      <td>0.0</td>\n",
       "      <td>0.0</td>\n",
       "      <td>0.0</td>\n",
       "      <td>192.0</td>\n",
       "    </tr>\n",
       "    <tr>\n",
       "      <td>4XL</td>\n",
       "      <td>7270.0</td>\n",
       "      <td>0.069326</td>\n",
       "      <td>2.713774</td>\n",
       "      <td>0.0</td>\n",
       "      <td>0.0</td>\n",
       "      <td>0.0</td>\n",
       "      <td>0.0</td>\n",
       "      <td>192.0</td>\n",
       "    </tr>\n",
       "    <tr>\n",
       "      <td>S/M</td>\n",
       "      <td>7270.0</td>\n",
       "      <td>2.060385</td>\n",
       "      <td>23.215193</td>\n",
       "      <td>0.0</td>\n",
       "      <td>0.0</td>\n",
       "      <td>0.0</td>\n",
       "      <td>0.0</td>\n",
       "      <td>810.0</td>\n",
       "    </tr>\n",
       "    <tr>\n",
       "      <td>L/XL</td>\n",
       "      <td>7270.0</td>\n",
       "      <td>1.285144</td>\n",
       "      <td>12.844841</td>\n",
       "      <td>0.0</td>\n",
       "      <td>0.0</td>\n",
       "      <td>0.0</td>\n",
       "      <td>0.0</td>\n",
       "      <td>600.0</td>\n",
       "    </tr>\n",
       "    <tr>\n",
       "      <td>Total Helmet</td>\n",
       "      <td>7270.0</td>\n",
       "      <td>61.709766</td>\n",
       "      <td>108.515474</td>\n",
       "      <td>1.0</td>\n",
       "      <td>6.0</td>\n",
       "      <td>24.0</td>\n",
       "      <td>72.0</td>\n",
       "      <td>2000.0</td>\n",
       "    </tr>\n",
       "    <tr>\n",
       "      <td>Receive Year</td>\n",
       "      <td>7270.0</td>\n",
       "      <td>2017.061761</td>\n",
       "      <td>0.756980</td>\n",
       "      <td>2016.0</td>\n",
       "      <td>2016.0</td>\n",
       "      <td>2017.0</td>\n",
       "      <td>2018.0</td>\n",
       "      <td>2018.0</td>\n",
       "    </tr>\n",
       "    <tr>\n",
       "      <td>Delivery Year</td>\n",
       "      <td>7270.0</td>\n",
       "      <td>2017.065062</td>\n",
       "      <td>0.754518</td>\n",
       "      <td>2016.0</td>\n",
       "      <td>2016.0</td>\n",
       "      <td>2017.0</td>\n",
       "      <td>2018.0</td>\n",
       "      <td>2018.0</td>\n",
       "    </tr>\n",
       "  </tbody>\n",
       "</table>\n",
       "</div>"
      ],
      "text/plain": [
       "                   count         mean         std     min     25%     50%  \\\n",
       "Time Differences  7270.0     9.468363   14.792043     0.0     1.0     1.0   \n",
       "XXS               7270.0     0.001100    0.052442     0.0     0.0     0.0   \n",
       "XS (48)           7270.0     1.792572    7.009704     0.0     0.0     0.0   \n",
       "XS/S              7270.0     0.000000    0.000000     0.0     0.0     0.0   \n",
       "S(50)             7270.0     6.111692   22.212878     0.0     0.0     0.0   \n",
       "M(52)             7270.0    13.467400   30.211962     0.0     0.0     4.0   \n",
       "L(54)             7270.0    20.968913   46.587129     0.0     1.0     6.0   \n",
       "XL(56)            7270.0     6.821183   17.389557     0.0     0.0     1.0   \n",
       "XXL               7270.0     8.994085   37.432356     0.0     0.0     0.0   \n",
       "3XL               7270.0     0.137964    3.789927     0.0     0.0     0.0   \n",
       "4XL               7270.0     0.069326    2.713774     0.0     0.0     0.0   \n",
       "S/M               7270.0     2.060385   23.215193     0.0     0.0     0.0   \n",
       "L/XL              7270.0     1.285144   12.844841     0.0     0.0     0.0   \n",
       "Total Helmet      7270.0    61.709766  108.515474     1.0     6.0    24.0   \n",
       "Receive Year      7270.0  2017.061761    0.756980  2016.0  2016.0  2017.0   \n",
       "Delivery Year     7270.0  2017.065062    0.754518  2016.0  2016.0  2017.0   \n",
       "\n",
       "                     75%     max  \n",
       "Time Differences    15.0    90.0  \n",
       "XXS                  0.0     3.0  \n",
       "XS (48)              0.0   348.0  \n",
       "XS/S                 0.0     0.0  \n",
       "S(50)                6.0   810.0  \n",
       "M(52)               16.0   800.0  \n",
       "L(54)               20.0  1000.0  \n",
       "XL(56)               6.0   500.0  \n",
       "XXL                  1.0   867.0  \n",
       "3XL                  0.0   192.0  \n",
       "4XL                  0.0   192.0  \n",
       "S/M                  0.0   810.0  \n",
       "L/XL                 0.0   600.0  \n",
       "Total Helmet        72.0  2000.0  \n",
       "Receive Year      2018.0  2018.0  \n",
       "Delivery Year     2018.0  2018.0  "
      ]
     },
     "execution_count": 5,
     "metadata": {},
     "output_type": "execute_result"
    }
   ],
   "source": [
    "kmean.describe().T "
   ]
  },
  {
   "cell_type": "code",
   "execution_count": 6,
   "metadata": {},
   "outputs": [
    {
     "data": {
      "text/plain": [
       "Text(0.5, 0, 'Time/Total')"
      ]
     },
     "execution_count": 6,
     "metadata": {},
     "output_type": "execute_result"
    },
    {
     "data": {
      "image/png": "[encoded data removed]",
      "text/plain": [
       "<Figure size 432x288 with 1 Axes>"
      ]
     },
     "metadata": {
      "needs_background": "light"
     },
     "output_type": "display_data"
    }
   ],
   "source": [
    "#Visualising the data\n",
    "plot_time = sns.distplot(kmean['Time Differences'])\n",
    "plot_grandtotal = sns.distplot(kmean['Total Helmet'])\n",
    "plt.xlabel('Time/Total')"
   ]
  },
  {
   "cell_type": "code",
   "execution_count": 7,
   "metadata": {},
   "outputs": [
    {
     "data": {
      "text/plain": [
       "[(0, 420)]"
      ]
     },
     "execution_count": 7,
     "metadata": {},
     "output_type": "execute_result"
    },
    {
     "data": {
      "image/png": "[encoded data removed]",
      "text/plain": [
       "<Figure size 864x432 with 2 Axes>"
      ]
     },
     "metadata": {
      "needs_background": "light"
     },
     "output_type": "display_data"
    }
   ],
   "source": [
    "f, axes = plt.subplots(1,2, figsize=(12,6), sharex=True, sharey=True)\n",
    "v1 = sns.violinplot(data=kmean, x='Time Differences', color=\"skyblue\",ax=axes[0])\n",
    "v2 = sns.violinplot(data=kmean, x='Total Helmet',color=\"lightgreen\", ax=axes[1])\n",
    "v1.set(xlim=(0,420))"
   ]
  },
  {
   "cell_type": "code",
   "execution_count": 8,
   "metadata": {},
   "outputs": [
    {
     "data": {
      "text/plain": [
       "<matplotlib.collections.PathCollection at 0x2866e9c3d08>"
      ]
     },
     "execution_count": 8,
     "metadata": {},
     "output_type": "execute_result"
    },
    {
     "data": {
      "image/png": "[encoded data removed]",
      "text/plain": [
       "<Figure size 432x288 with 1 Axes>"
      ]
     },
     "metadata": {
      "needs_background": "light"
     },
     "output_type": "display_data"
    }
   ],
   "source": [
    "# Plotting the values to understand the spread\n",
    "Time = kmean['Time Differences'].values\n",
    "Total = kmean['Total Helmet'].values\n",
    "X = np.array(list(zip(Time, Total)))\n",
    "plt.scatter(Time,Total, c='red', s=100)"
   ]
  },
  {
   "cell_type": "code",
   "execution_count": 9,
   "metadata": {},
   "outputs": [
    {
     "data": {
      "text/plain": [
       "<mpl_toolkits.mplot3d.art3d.Path3DCollection at 0x2866e99d688>"
      ]
     },
     "execution_count": 9,
     "metadata": {},
     "output_type": "execute_result"
    },
    {
     "data": {
      "image/png": "[encoded data removed]",
      "text/plain": [
       "<Figure size 432x288 with 1 Axes>"
      ]
     },
     "metadata": {
      "needs_background": "light"
     },
     "output_type": "display_data"
    }
   ],
   "source": [
    "##plot in 3D space\n",
    "from mpl_toolkits.mplot3d import Axes3D\n",
    "\n",
    "fig = plt.figure()\n",
    "ax = Axes3D(fig)\n",
    "ax.scatter(X[:, 0], X[:, 1])"
   ]
  },
  {
   "cell_type": "markdown",
   "metadata": {},
   "source": [
    "## Clustering fundamentals"
   ]
  },
  {
   "cell_type": "code",
   "execution_count": 10,
   "metadata": {},
   "outputs": [],
   "source": [
    "X=kmean.iloc[:,[2,16]].values"
   ]
  },
  {
   "cell_type": "code",
   "execution_count": 11,
   "metadata": {},
   "outputs": [
    {
     "data": {
      "text/plain": [
       "array([[ 9, 18],\n",
       "       [ 1,  9],\n",
       "       [ 1,  9],\n",
       "       ...,\n",
       "       [ 1,  6],\n",
       "       [ 1,  6],\n",
       "       [ 2,  3]], dtype=int64)"
      ]
     },
     "execution_count": 11,
     "metadata": {},
     "output_type": "execute_result"
    }
   ],
   "source": [
    "X"
   ]
  },
  {
   "cell_type": "code",
   "execution_count": 12,
   "metadata": {},
   "outputs": [
    {
     "data": {
      "image/png": "[encoded data removed]",
      "text/plain": [
       "<Figure size 432x288 with 1 Axes>"
      ]
     },
     "metadata": {
      "needs_background": "light"
     },
     "output_type": "display_data"
    }
   ],
   "source": [
    "#Using the elbow method to find the ideal number of clusters\n",
    "from sklearn.cluster import KMeans\n",
    "wss = []\n",
    "for i in range(2,11):\n",
    "    km=KMeans(n_clusters=i,init='k-means++', max_iter=300, n_init=10, random_state=0)\n",
    "    km.fit(X)\n",
    "    wss.append(km.inertia_)\n",
    "plt.plot(range(2,11),wss)\n",
    "plt.title('Elbow Method')\n",
    "plt.xlabel('Number of clusters')\n",
    "plt.ylabel('wss')\n",
    "plt.show()\n",
    "    "
   ]
  },
  {
   "cell_type": "code",
   "execution_count": 13,
   "metadata": {},
   "outputs": [
    {
     "name": "stdout",
     "output_type": "stream",
     "text": [
      "k: 2  cost: 38708123.424701765\n",
      "k: 3  cost: 21510420.612582363\n",
      "k: 4  cost: 13380450.949121732\n",
      "k: 5  cost: 8900957.975408899\n",
      "k: 6  cost: 6733503.829565467\n",
      "k: 7  cost: 5221398.539155405\n",
      "k: 8  cost: 4429805.278182976\n",
      "k: 9  cost: 3735039.3731460096\n",
      "k: 10  cost: 3210026.312635259\n",
      "\n"
     ]
    }
   ],
   "source": [
    "for k in range (2, 11):\n",
    "    kmeans_model = KMeans(n_clusters=k, random_state=1).fit(X)\n",
    "    labels = kmeans_model.labels_\n",
    "    interia = kmeans_model.inertia_\n",
    "    print (\"k:\",k, \" cost:\", interia)\n",
    "print()"
   ]
  },
  {
   "cell_type": "code",
   "execution_count": 14,
   "metadata": {},
   "outputs": [
    {
     "name": "stdout",
     "output_type": "stream",
     "text": [
      "For n_clusters=2, The Silhouette Coefficient is 0.7958006947536669\n",
      "For n_clusters=3, The Silhouette Coefficient is 0.7647766246028229\n",
      "For n_clusters=4, The Silhouette Coefficient is 0.6348520742529189\n",
      "For n_clusters=5, The Silhouette Coefficient is 0.612115227984998\n",
      "For n_clusters=6, The Silhouette Coefficient is 0.61315319827338\n",
      "For n_clusters=7, The Silhouette Coefficient is 0.5452087428768366\n",
      "For n_clusters=8, The Silhouette Coefficient is 0.4941596889231463\n",
      "For n_clusters=9, The Silhouette Coefficient is 0.48287713149755407\n",
      "For n_clusters=10, The Silhouette Coefficient is 0.5244682154719118\n"
     ]
    }
   ],
   "source": [
    "#Calculating the silhoutte coefficient\n",
    "from sklearn.metrics import silhouette_score\n",
    "from sklearn.cluster import KMeans\n",
    "\n",
    "for n_cluster in range(2, 11):\n",
    "    kmeans = KMeans(n_clusters=n_cluster).fit(X)\n",
    "    label = kmeans.labels_\n",
    "    sil_coeff = silhouette_score(X, label, metric='euclidean')\n",
    "    print(\"For n_clusters={}, The Silhouette Coefficient is {}\".format(n_cluster, sil_coeff))"
   ]
  },
  {
   "cell_type": "code",
   "execution_count": 15,
   "metadata": {},
   "outputs": [],
   "source": [
    "#Fitting kmeans to the dataset\n",
    "km4=KMeans(n_clusters=4,init='k-means++', max_iter=300, n_init=10, random_state=0)\n",
    "y_means = km4.fit_predict(X)"
   ]
  },
  {
   "cell_type": "code",
   "execution_count": 16,
   "metadata": {},
   "outputs": [
    {
     "data": {
      "image/png": "[encoded data removed]",
      "text/plain": [
       "<Figure size 432x288 with 1 Axes>"
      ]
     },
     "metadata": {
      "needs_background": "light"
     },
     "output_type": "display_data"
    }
   ],
   "source": [
    "#Visualising the clusters for k=4\n",
    "plt.scatter(X[y_means==0,0],X[y_means==0,1],s=50, c='purple',label='Cluster1')\n",
    "plt.scatter(X[y_means==1,0],X[y_means==1,1],s=50, c='blue',label='Cluster2')\n",
    "plt.scatter(X[y_means==2,0],X[y_means==2,1],s=50, c='green',label='Cluster3')\n",
    "plt.scatter(X[y_means==3,0],X[y_means==3,1],s=50, c='cyan',label='Cluster4')\n",
    "\n",
    "plt.scatter(km4.cluster_centers_[:,0], km4.cluster_centers_[:,1],s=200,marker='s', c='red', alpha=0.7, label='Centroids')\n",
    "plt.title('Customer segments')\n",
    "plt.xlabel('Time Differences')\n",
    "plt.ylabel('Total Helmet')\n",
    "plt.legend()\n",
    "plt.show()"
   ]
  },
  {
   "cell_type": "code",
   "execution_count": 17,
   "metadata": {},
   "outputs": [],
   "source": [
    "kmean['Category'] = km4.labels_"
   ]
  },
  {
   "cell_type": "code",
   "execution_count": null,
   "metadata": {},
   "outputs": [],
   "source": []
  },
  {
   "cell_type": "code",
   "execution_count": 22,
   "metadata": {},
   "outputs": [],
   "source": [
    "kmean.to_csv(r'C:\\Users\\krnjy\\Documents\\Final Project\\kmean.csv',index=False)"
   ]
  },
  {
   "cell_type": "code",
   "execution_count": null,
   "metadata": {},
   "outputs": [],
   "source": []
  }
 ],
 "metadata": {
  "kernelspec": {
   "display_name": "Python 3",
   "language": "python",
   "name": "python3"
  },
  "language_info": {
   "codemirror_mode": {
    "name": "ipython",
    "version": 3
   },
   "file_extension": ".py",
   "mimetype": "text/x-python",
   "name": "python",
   "nbconvert_exporter": "python",
   "pygments_lexer": "ipython3",
   "version": "3.7.4"
  }
 },
 "nbformat": 4,
 "nbformat_minor": 2
}
